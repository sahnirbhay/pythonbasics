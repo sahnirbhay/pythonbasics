{
  "nbformat": 4,
  "nbformat_minor": 0,
  "metadata": {
    "colab": {
      "provenance": []
    },
    "kernelspec": {
      "name": "python3",
      "display_name": "Python 3"
    },
    "language_info": {
      "name": "python"
    }
  },
  "cells": [
    {
      "cell_type": "markdown",
      "source": [],
      "metadata": {
        "id": "TnoqCGMINtAf"
      }
    },
    {
      "cell_type": "code",
      "execution_count": null,
      "metadata": {
        "id": "fggBHs8TNdvB"
      },
      "outputs": [],
      "source": [
        "Pythonbasics\n",
        "\n",
        "\n",
        "\n",
        "\n"
      ]
    },
    {
      "cell_type": "markdown",
      "source": [
        "# 1 Explain the key features of Python that make it a popular choice for programming ?\n",
        "   - The key features of python that make it a popular choice for programming are as follows-\n",
        "   > Easy to Learn and Use: Python’s simple and readable syntax makes it beginner-friendly.\n",
        "   > Cross-Platform Compatibility: Python runs seamlessly on Windows, macOS, and Linux.\n",
        "   > Extensive Libraries: Includes robust libraries for tasks like web development, data analysis, and machine learning.\n",
        "   > Versatile: Supports multiple programming paradigms, including object-oriented, functional, and procedural programming.\n",
        "   > Open Source: Python is free to use, distribute, and modify.\n",
        "\n",
        "# 2 Describe the role of predefined keywords in Python and provide examples of how they are used in a program ?\n",
        "\n",
        "    - Python Keywords are some predefined and reserved words in Python that have special meanings. Keywords are used to define the syntax of the coding. The keyword cannot be used as an identifier, function, or variable name.\n",
        "    examples\n",
        "    "
      ],
      "metadata": {
        "id": "CrXCc930Ogdy"
      }
    },
    {
      "cell_type": "code",
      "source": [
        "print(True)\n",
        "print(False)\n",
        "print(None)\n"
      ],
      "metadata": {
        "colab": {
          "base_uri": "https://localhost:8080/"
        },
        "id": "wbhqAmbcgiQC",
        "outputId": "fbb38a56-14d5-4d37-b80c-dce2caccf77b"
      },
      "execution_count": null,
      "outputs": [
        {
          "output_type": "stream",
          "name": "stdout",
          "text": [
            "True\n",
            "False\n",
            "None\n"
          ]
        }
      ]
    },
    {
      "cell_type": "markdown",
      "source": [
        "# 3.  Compare and contrast mutable and immutable objects in Python with examples ?\n",
        "\n",
        "   - In Python, Every variable in Python holds an instance of an object. There are two types of objects in Python i.e. Mutable and Immutable objects. Whenever an object is instantiated, it is assigned a unique object id. The type of the object is defined at the runtime and it can’t be changed afterward. However, its state can be changed if it is a mutable object.\n",
        "    Examples\n",
        "    Mutable objects in python\n",
        "    "
      ],
      "metadata": {
        "id": "qaIgAEPQgzbv"
      }
    },
    {
      "cell_type": "code",
      "source": [
        "my_list = [1, 2, 3]\n",
        "my_list.append(4)\n",
        "print(my_list)\n",
        "\n",
        "my_list.insert(1, 5)\n",
        "print(my_list)\n",
        "\n",
        "my_list.remove(2)\n",
        "print(my_list)\n",
        "\n",
        "popped_element = my_list.pop(0)\n",
        "print(my_list)\n",
        "print(popped_element)\n",
        "\n"
      ],
      "metadata": {
        "id": "EoXItzQpikyB"
      },
      "execution_count": null,
      "outputs": []
    },
    {
      "cell_type": "markdown",
      "source": [
        "Immutable objects in python\n"
      ],
      "metadata": {
        "id": "u17u2aMDis-b"
      }
    },
    {
      "cell_type": "code",
      "source": [
        "# Python code to test that\n",
        "# strings are immutable\n",
        "\n",
        "message = \"Welcome to GeeksforGeeks\"\n",
        "message[0] = 'p'\n",
        "print(message)\n",
        "\n"
      ],
      "metadata": {
        "id": "8enqyzSLiz1I"
      },
      "execution_count": null,
      "outputs": []
    },
    {
      "cell_type": "markdown",
      "source": [],
      "metadata": {
        "id": "MYUBNn6ikEHZ"
      }
    },
    {
      "cell_type": "markdown",
      "source": [
        "# 4. Discuss the different types of operators in Python and provide examples of how they are used ?\n",
        "  -Python language supports various types of operators, which are:\n",
        "Arithmetic Operators\n",
        "Comparison (Relational) Operators\n",
        "Assignment Operators\n",
        "Logical Operators\n",
        "Bitwise Operators\n",
        "Membership Operators\n",
        "Identity Operators\n",
        " Example\n",
        "\n"
      ],
      "metadata": {
        "id": "7Xvw7SFui7zF"
      }
    },
    {
      "cell_type": "code",
      "source": [
        "a = 21\n",
        "b = 10\n",
        "# Addition\n",
        "print (\"a + b : \", a + b)\n",
        "# Subtraction\n",
        "print (\"a - b : \", a - b)\n",
        "# Multiplication\n",
        "print (\"a * b : \", a * b)\n",
        "# Division\n",
        "print (\"a / b : \", a / b)\n",
        "# Modulus\n",
        "print (\"a % b : \", a % b)\n",
        "# Exponent\n",
        "print (\"a ** b : \", a ** b)\n",
        "# Floor Division\n",
        "print (\"a // b : \", a // b)\n",
        "\n"
      ],
      "metadata": {
        "colab": {
          "base_uri": "https://localhost:8080/"
        },
        "id": "CLrSOzV9j7cw",
        "outputId": "86759508-9788-471e-c864-6112f502cd0e"
      },
      "execution_count": null,
      "outputs": [
        {
          "output_type": "stream",
          "name": "stdout",
          "text": [
            "a + b :  31\n",
            "a - b :  11\n",
            "a * b :  210\n",
            "a / b :  2.1\n",
            "a % b :  1\n",
            "a ** b :  16679880978201\n",
            "a // b :  2\n"
          ]
        }
      ]
    },
    {
      "cell_type": "markdown",
      "source": [],
      "metadata": {
        "id": "dFKSncJagk-h"
      }
    },
    {
      "cell_type": "markdown",
      "source": [],
      "metadata": {
        "id": "8aej6OlANwow"
      }
    },
    {
      "cell_type": "markdown",
      "source": [
        "# 5. Explain the concept of type casting in Python with examples ?\n",
        "   - Python Type Casting is a process in which we convert a literal of one data type to another data type. Python supports two types of casting implicit and explicit.\n",
        "   Implicit casting\n",
        "   "
      ],
      "metadata": {
        "id": "C8t1dUMNkTPU"
      }
    },
    {
      "cell_type": "code",
      "source": [
        "a=True;\n",
        "b=10.5;\n",
        "c=a+b;\n",
        "\n",
        "print (c);\n"
      ],
      "metadata": {
        "colab": {
          "base_uri": "https://localhost:8080/"
        },
        "id": "bkHTuXnXlCEL",
        "outputId": "669afe7e-a122-4b0e-fcba-6190da006979"
      },
      "execution_count": null,
      "outputs": [
        {
          "output_type": "stream",
          "name": "stdout",
          "text": [
            "11.5\n"
          ]
        }
      ]
    },
    {
      "cell_type": "markdown",
      "source": [
        "Explicit casting\n"
      ],
      "metadata": {
        "id": "poSGwFdvlEVD"
      }
    },
    {
      "cell_type": "code",
      "source": [
        "# int variable\n",
        "a = 5\n",
        "\n",
        "# typecast to float\n",
        "n = float(a)\n",
        "\n",
        "print(n)\n",
        "print(type(n))"
      ],
      "metadata": {
        "colab": {
          "base_uri": "https://localhost:8080/"
        },
        "id": "ASXLIxDAlqT0",
        "outputId": "ef3ff591-e919-4f55-802a-b9c487ba64d4"
      },
      "execution_count": null,
      "outputs": [
        {
          "output_type": "stream",
          "name": "stdout",
          "text": [
            "5.0\n",
            "<class 'float'>\n"
          ]
        }
      ]
    },
    {
      "cell_type": "markdown",
      "source": [
        "# 6.  How do conditional statements work in Python? Illustrate with examples.\n",
        "    - Conditional statements in Python are used to execute certain blocks of code based on specific conditions. These statements help control the flow of a program, making it behave differently in different situations.\n",
        "\n",
        "     If statement is the simplest form of a conditional statement. It executes a block of code if the given condition is true.\n",
        "     \n",
        "     "
      ],
      "metadata": {
        "id": "F-z_MgtalzeG"
      }
    },
    {
      "cell_type": "code",
      "source": [
        "age = 20\n",
        "\n",
        "if age >= 18:\n",
        "    print(\"Eligible to vote.\")\n"
      ],
      "metadata": {
        "id": "IwEO0k8omxLf"
      },
      "execution_count": null,
      "outputs": []
    },
    {
      "cell_type": "markdown",
      "source": [
        "# 7. Describe the different types of loops in Python and their use cases with examples.\n",
        "     - There are basically 3 different types of  loops used in python\n",
        "      1. While Loops in Python\n",
        "      2. For Loops in Python\n",
        "      3. Nested Loops in Python\n",
        "\n",
        "      Syntax and uses\n",
        "      1. Python While Loop Example\n",
        "      \n",
        "        "
      ],
      "metadata": {
        "id": "JGrpNf6vm3Ff"
      }
    },
    {
      "cell_type": "code",
      "source": [
        "count = 1\n",
        "while count <= 5:\n",
        "    print(count)\n",
        "    count += 1"
      ],
      "metadata": {
        "id": "7BdJ2IcwovkO"
      },
      "execution_count": null,
      "outputs": []
    },
    {
      "cell_type": "markdown",
      "source": [
        "1.2. Using the else Statement with While Loop in Python\n"
      ],
      "metadata": {
        "id": "MFp2En1Doa65"
      }
    },
    {
      "cell_type": "code",
      "source": [
        "count = 1\n",
        "while count <= 5:\n",
        "    print(count)\n",
        "    count += 1\n",
        "else:\n",
        "print(\"Loop completed without interruption.\")\n"
      ],
      "metadata": {
        "id": "3rUxI7EWojgh"
      },
      "execution_count": null,
      "outputs": []
    },
    {
      "cell_type": "markdown",
      "source": [
        "1.3. Infinite While Loop in Python\n"
      ],
      "metadata": {
        "id": "CbKknmndo0mO"
      }
    },
    {
      "cell_type": "code",
      "source": [
        "count = 0\n",
        "while (count == 0):\n",
        "print(\"Good Morning\")\n"
      ],
      "metadata": {
        "id": "AoLVzz5WpDnQ"
      },
      "execution_count": null,
      "outputs": []
    },
    {
      "cell_type": "markdown",
      "source": [
        "2. For Loops in Python\n"
      ],
      "metadata": {
        "id": "aM0on0RrpFMB"
      }
    },
    {
      "cell_type": "code",
      "source": [
        "# Example list of numbers\n",
        "numbers = [1, 2, 3, 4, 5]\n",
        "# Using a for loop to iterate through the list\n",
        "for number in numbers:\n",
        "    print(number)\n"
      ],
      "metadata": {
        "id": "qb5r9bD7pUHD"
      },
      "execution_count": null,
      "outputs": []
    },
    {
      "cell_type": "markdown",
      "source": [
        "3.  Nested Loops in Python\n",
        "\n"
      ],
      "metadata": {
        "id": "BTsPP6v2pjgi"
      }
    },
    {
      "cell_type": "code",
      "source": [
        "# Outer loop for the number of rows\n",
        "for i in range(1, 6):\n",
        "    # Inner loop for printing stars\n",
        "    for j in range(i):\n",
        "        print(\"*\", end=\"\")\n",
        "    print()  # Move to the next line after each row"
      ],
      "metadata": {
        "id": "KslY1yJMp_Fk"
      },
      "execution_count": null,
      "outputs": []
    }
  ]
}